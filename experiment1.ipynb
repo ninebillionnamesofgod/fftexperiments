{
 "cells": [
  {
   "cell_type": "markdown",
   "metadata": {},
   "source": [
    "from - https://stackoverflow.com/questions/3694918/how-to-extract-frequency-associated-with-fft-values-in-python\n"
   ]
  },
  {
   "cell_type": "code",
   "execution_count": 26,
   "metadata": {
    "collapsed": false
   },
   "outputs": [
    {
     "name": "stderr",
     "output_type": "stream",
     "text": [
      "/home/arun/.virtualenvs/audiofft/lib/python3.5/site-packages/numpy/core/numeric.py:531: ComplexWarning: Casting complex values to real discards the imaginary part\n",
      "  return array(a, dtype, copy=False, order=order)\n"
     ]
    },
    {
     "data": {
      "image/png": "[encoded data removed]",
      "text/plain": [
       "<matplotlib.figure.Figure at 0x7f5776006860>"
      ]
     },
     "metadata": {},
     "output_type": "display_data"
    },
    {
     "name": "stdout",
     "output_type": "stream",
     "text": [
      "[  0.          17.45769103  34.91538206 ..., -52.37307309 -34.91538206\n",
      " -17.45769103]\n",
      "[ 0.          2.77847782  5.55695565 ..., -8.33543347 -5.55695565\n",
      " -2.77847782]\n"
     ]
    }
   ],
   "source": [
    "import soundfile as sf\n",
    "from scipy.fftpack import fft, fftfreq, fftn\n",
    "import numpy as np\n",
    "import matplotlib.pyplot as plt\n",
    "from numpy.fft import rfft\n",
    "\n",
    "%matplotlib inline\n",
    "\n",
    "data, rate = sf.read(\"god.flac\")\n",
    "signal_fft = fft(data)\n",
    "N = len(data)\n",
    "\n",
    "freqs = fftfreq(N)\n",
    "\n",
    "fig, ax = plt.subplots()\n",
    "ax.plot(data, signal_fft)\n",
    "plt.show()\n",
    "\n",
    "T = N/rate\n",
    "\n",
    "df = 1.0/T\n",
    "dw = 2*np.pi/T\n",
    "\n",
    "w = np.array([dw*n if n<N/2 else dw*(n-N) for n in range(N)])\n",
    "f = np.array([df*n if n<N/2 else df*(n-N) for n in range(N)])\n",
    "\n",
    "print(w)\n",
    "print(f)"
   ]
  }
 ],
 "metadata": {
  "kernelspec": {
   "display_name": "AudioFFT-Python",
   "language": "python",
   "name": "audiofft"
  },
  "language_info": {
   "codemirror_mode": {
    "name": "ipython",
    "version": 3
   },
   "file_extension": ".py",
   "mimetype": "text/x-python",
   "name": "python",
   "nbconvert_exporter": "python",
   "pygments_lexer": "ipython3",
   "version": "3.5.2"
  }
 },
 "nbformat": 4,
 "nbformat_minor": 1
}
